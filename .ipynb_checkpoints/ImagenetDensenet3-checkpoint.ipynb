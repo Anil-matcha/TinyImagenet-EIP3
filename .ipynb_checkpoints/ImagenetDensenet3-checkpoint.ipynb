{
 "cells": [
  {
   "cell_type": "code",
   "execution_count": 0,
   "metadata": {
    "colab": {
     "base_uri": "https://localhost:8080/",
     "height": 136
    },
    "colab_type": "code",
    "id": "NHAZPhA39Tli",
    "outputId": "b8ff0352-fdc8-4732-f39f-bf9c4d7552e8"
   },
   "outputs": [
    {
     "name": "stdout",
     "output_type": "stream",
     "text": [
      "Epoch 38/38\n",
      "4166/4166 [==============================] - 9052s 2s/step - loss: 0.9444 - acc: 0.8071 - val_loss: 1.6717 - val_acc: 0.6051\n",
      "Current learning rate 4e-05 84949\n",
      "Saving to id 12O9biUN8KrdZybj_0ZU6p-Rad8yznYBw\n",
      "\n",
      "Epoch 00038: saving model to Imagenetvdbig.hdf5\n"
     ]
    },
    {
     "data": {
      "text/plain": [
       "<keras.callbacks.History at 0x7f06ed917128>"
      ]
     },
     "execution_count": 18,
     "metadata": {
      "tags": []
     },
     "output_type": "execute_result"
    }
   ],
   "source": [
    "#Moderate augmentation with learning rate reduced to 4x10^-6 on 64x64\n",
    "model.fit_generator(initial_epoch=37, \n",
    "                    generator=train_generator,\n",
    "                    steps_per_epoch=STEP_SIZE_TRAIN,\n",
    "                    validation_data=val_generator,\n",
    "                    validation_steps=STEP_SIZE_VALID,\n",
    "                    epochs=38, verbose=1,\n",
    "                    callbacks=[lr_reducer, early_stopping, csv_logger, model_checkpoint])"
   ]
  }
 ],
 "metadata": {
  "accelerator": "TPU",
  "colab": {
   "name": "Big2.ipynb",
   "provenance": [],
   "version": "0.3.2"
  },
  "kernelspec": {
   "display_name": "Python 3",
   "language": "python",
   "name": "python3"
  },
  "language_info": {
   "codemirror_mode": {
    "name": "ipython",
    "version": 3
   },
   "file_extension": ".py",
   "mimetype": "text/x-python",
   "name": "python",
   "nbconvert_exporter": "python",
   "pygments_lexer": "ipython3",
   "version": "3.7.1"
  }
 },
 "nbformat": 4,
 "nbformat_minor": 1
}
